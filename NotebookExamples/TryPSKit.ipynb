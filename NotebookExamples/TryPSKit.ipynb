{
 "cells": [
  {
   "cell_type": "code",
   "execution_count": null,
   "metadata": {},
   "outputs": [],
   "source": [
    "ipmo pskit -force\n",
    "\n",
    "new-dataframe (get-daterange 1/1 -p 5) a,b,c {get-random} | ctmt"
   ]
  },
  {
   "cell_type": "code",
   "execution_count": null,
   "metadata": {},
   "outputs": [],
   "source": [
    "Read-Csv https://raw.githubusercontent.com/codebasics/py/master/pandas/10_pivot/weather.csv | ctmt"
   ]
  },
  {
   "cell_type": "code",
   "execution_count": null,
   "metadata": {},
   "outputs": [],
   "source": [
    "Read-Csv https://raw.githubusercontent.com/codebasics/py/master/ML/14_naive_bayes/titanic.csv | ctmt"
   ]
  },
  {
   "cell_type": "code",
   "execution_count": null,
   "metadata": {},
   "outputs": [],
   "source": [
    "Read-Csv https://raw.githubusercontent.com/codebasics/py/master/ML/14_naive_bayes/titanic.csv | Export-Excel ./titanic.xlsx\n",
    "Import-Excel ./titanic.xlsx | ctmt"
   ]
  },
  {
   "cell_type": "code",
   "execution_count": null,
   "metadata": {},
   "outputs": [],
   "source": [
    "Read-Csv https://raw.githubusercontent.com/codebasics/py/master/pandas/4_read_write_to_excel/new.csv | ctmt"
   ]
  },
  {
   "cell_type": "code",
   "execution_count": null,
   "metadata": {},
   "outputs": [],
   "source": [
    "Read-Csv https://raw.githubusercontent.com/codebasics/py/master/pandas/4_read_write_to_excel/stock_data.csv | ctmt"
   ]
  }
 ],
 "metadata": {
  "kernelspec": {
   "display_name": ".NET (PowerShell)",
   "language": "PowerShell",
   "name": ".net-powershell"
  },
  "language_info": {
   "file_extension": ".ps1",
   "mimetype": "text/x-powershell",
   "name": "PowerShell",
   "pygments_lexer": "powershell",
   "version": "7.0"
  }
 },
 "nbformat": 4,
 "nbformat_minor": 4
}
