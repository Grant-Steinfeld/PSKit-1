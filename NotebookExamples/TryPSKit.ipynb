{
 "cells": [
  {
   "cell_type": "code",
   "execution_count": 1,
   "metadata": {},
   "outputs": [
    {
     "data": {
      "text/html": [
       "<script type=\"text/javascript\">#!javascript\r\n",
       "if ((typeof(requirejs) !==  typeof(Function)) || (typeof(requirejs.config) !== typeof(Function))) { \r\n",
       "    let script = document.createElement(\"script\"); \r\n",
       "    script.setAttribute(\"src\", \"https://cdnjs.cloudflare.com/ajax/libs/require.js/2.3.6/require.min.js\"); \r\n",
       "    script.onload = function(){\r\n",
       "        loadDotnetInteractiveApi();\r\n",
       "    };\r\n",
       "    document.getElementsByTagName(\"head\")[0].appendChild(script); \r\n",
       "}\r\n",
       "else {\r\n",
       "    loadDotnetInteractiveApi();\r\n",
       "}\r\n",
       "\r\n",
       "function loadDotnetInteractiveApi(){\r\n",
       "    let apiRequire = requirejs.config({context:\"dotnet-interactive.171.41249\",paths:{dotnetInteractive:\"http://localhost:41249/resources/dotnet-interactive\"}});\r\n",
       "    apiRequire(['dotnetInteractive'], \r\n",
       "    function(api) {       \r\n",
       "        api.createDotnetInteractiveClient(\"http://localhost:41249/\", window);\r\n",
       "    },\r\n",
       "    function(error){\r\n",
       "        console.log(error);\r\n",
       "    });\r\n",
       "}</script>"
      ]
     },
     "metadata": {},
     "output_type": "display_data"
    },
    {
     "data": {
      "text/html": [
       "<table>\n",
       "<thead>\n",
       "<tr>\n",
       "<th>Index</th>\n",
       "<th>a</th>\n",
       "<th>b</th>\n",
       "<th>c</th>\n",
       "</tr>\n",
       "</thead>\n",
       "<tbody>\n",
       "<tr>\n",
       "<td>2020-01-01</td>\n",
       "<td>864569599</td>\n",
       "<td>396678044</td>\n",
       "<td>1483603324</td>\n",
       "</tr>\n",
       "<tr>\n",
       "<td>2020-01-02</td>\n",
       "<td>2025899153</td>\n",
       "<td>2001825721</td>\n",
       "<td>1044667799</td>\n",
       "</tr>\n",
       "<tr>\n",
       "<td>2020-01-03</td>\n",
       "<td>2083846077</td>\n",
       "<td>1711707835</td>\n",
       "<td>99616667</td>\n",
       "</tr>\n",
       "<tr>\n",
       "<td>2020-01-04</td>\n",
       "<td>845964536</td>\n",
       "<td>1957571819</td>\n",
       "<td>675382137</td>\n",
       "</tr>\n",
       "<tr>\n",
       "<td>2020-01-05</td>\n",
       "<td>1365461586</td>\n",
       "<td>1518452051</td>\n",
       "<td>290807318</td>\n",
       "</tr>\n",
       "</tbody>\n",
       "</table>\n"
      ]
     },
     "metadata": {},
     "output_type": "display_data"
    }
   ],
   "source": [
    "ipmo pskit -force\n",
    "\n",
    "new-dataframe (get-daterange 1/1 -p 5) a,b,c {get-random} | ctmt"
   ]
  }
 ],
 "metadata": {
  "kernelspec": {
   "display_name": ".NET (PowerShell)",
   "language": "PowerShell",
   "name": ".net-powershell"
  },
  "language_info": {
   "file_extension": ".ps1",
   "mimetype": "text/x-powershell",
   "name": "PowerShell",
   "pygments_lexer": "powershell",
   "version": "7.0"
  }
 },
 "nbformat": 4,
 "nbformat_minor": 4
}
