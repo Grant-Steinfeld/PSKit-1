{
 "cells": [
  {
   "cell_type": "code",
   "execution_count": 1,
   "metadata": {},
   "outputs": [
    {
     "data": {
      "text/html": [
       "<pre>PROGRESS: Completed.</pre>\n"
      ]
     },
     "metadata": {},
     "output_type": "display_data"
    },
    {
     "data": {
      "text/html": [
       "<pre>PROGRESS: Completed.</pre>\n"
      ]
     },
     "metadata": {},
     "output_type": "display_data"
    },
    {
     "data": {
      "text/html": [
       "<pre>PROGRESS: Completed.</pre>\n"
      ]
     },
     "metadata": {},
     "output_type": "display_data"
    }
   ],
   "source": [
    "Install-Module pskit -force\n",
    "Install-Module nameit -force\n",
    "\n",
    "Import-Module nameit\n"
   ]
  },
  {
   "cell_type": "code",
   "execution_count": 2,
   "metadata": {},
   "outputs": [],
   "source": [
    "function ConvertTo-MarkdownTable {\n",
    "    param($targetData)\n",
    "\n",
    "    $names = $targetData[0].psobject.Properties.name     \n",
    "\n",
    "    $all = @()\n",
    "    1..$names.count | foreach {\n",
    "        if($_ -eq $names.count) {\n",
    "            $all += '|'\n",
    "        } else {\n",
    "            $all += '|---'\n",
    "        }\n",
    "    }\n",
    "\n",
    "    $result = foreach($record in $targetData) {\n",
    "        $inner=@()\n",
    "        foreach($name in $names) {        \n",
    "            $inner+=$record.$name\n",
    "        }        \n",
    "        '|' + ($inner -join '|') + '|' + \"`n\"\n",
    "    }\n",
    "    \n",
    "@\"\n",
    "$('|' + ($names -join '|') + '|')\n",
    "$($all)\n",
    "$($result)\n",
    "\"@ | ConvertFrom-Markdown | % html | Get-HtmlContent | Out-Display\n",
    "}"
   ]
  },
  {
   "cell_type": "code",
   "execution_count": 3,
   "metadata": {},
   "outputs": [
    {
     "data": {
      "text/html": [
       "<table>\n",
       "<thead>\n",
       "<tr>\n",
       "<th>Cost</th>\n",
       "<th>Date</th>\n",
       "<th>Name</th>\n",
       "</tr>\n",
       "</thead>\n",
       "<tbody>\n",
       "<tr>\n",
       "<td>1.1</td>\n",
       "<td>1/1/2015</td>\n",
       "<td>John</td>\n",
       "</tr>\n",
       "<tr>\n",
       "<td>2.1</td>\n",
       "<td>1/2/2015</td>\n",
       "<td>Tom</td>\n",
       "</tr>\n",
       "<tr>\n",
       "<td>5.1</td>\n",
       "<td>1/2/2015</td>\n",
       "<td>Dick</td>\n",
       "</tr>\n",
       "<tr>\n",
       "<td>11.1</td>\n",
       "<td>1/2/2015</td>\n",
       "<td>Harry</td>\n",
       "</tr>\n",
       "<tr>\n",
       "<td>7.1</td>\n",
       "<td>1/2/2015</td>\n",
       "<td>Jane</td>\n",
       "</tr>\n",
       "<tr>\n",
       "<td>22.1</td>\n",
       "<td>1/2/2015</td>\n",
       "<td>Mary</td>\n",
       "</tr>\n",
       "<tr>\n",
       "<td>32.1</td>\n",
       "<td>1/2/2015</td>\n",
       "<td>Liz</td>\n",
       "</tr>\n",
       "</tbody>\n",
       "</table>\n"
      ]
     },
     "metadata": {},
     "output_type": "display_data"
    }
   ],
   "source": [
    "ConvertTo-MarkdownTable (Read-Csv https://raw.githubusercontent.com/dfinke/ImportExcel/master/Examples/JustCharts/TargetData.csv)"
   ]
  },
  {
   "cell_type": "code",
   "execution_count": 6,
   "metadata": {},
   "outputs": [
    {
     "data": {
      "text/html": [
       "<table>\n",
       "<thead>\n",
       "<tr>\n",
       "<th>Index</th>\n",
       "<th>person</th>\n",
       "<th>state</th>\n",
       "<th>verb</th>\n",
       "<th>noun</th>\n",
       "</tr>\n",
       "</thead>\n",
       "<tbody>\n",
       "<tr>\n",
       "<td>2020-01-01</td>\n",
       "<td>London Oconnor</td>\n",
       "<td>Kentucky</td>\n",
       "<td>Indicate</td>\n",
       "<td>Zebra</td>\n",
       "</tr>\n",
       "<tr>\n",
       "<td>2020-02-01</td>\n",
       "<td>Kamari Acevedo</td>\n",
       "<td>Iowa</td>\n",
       "<td>Flow</td>\n",
       "<td>Foundation</td>\n",
       "</tr>\n",
       "<tr>\n",
       "<td>2020-03-01</td>\n",
       "<td>Martha Barnes</td>\n",
       "<td>Iowa</td>\n",
       "<td>Detailed</td>\n",
       "<td>Comparison</td>\n",
       "</tr>\n",
       "<tr>\n",
       "<td>2020-04-01</td>\n",
       "<td>Joselyn Lucas</td>\n",
       "<td>Louisiana</td>\n",
       "<td>Engage</td>\n",
       "<td>Will</td>\n",
       "</tr>\n",
       "<tr>\n",
       "<td>2020-05-01</td>\n",
       "<td>Zechariah Barron</td>\n",
       "<td>North Dakota</td>\n",
       "<td>Suppose</td>\n",
       "<td>Boss</td>\n",
       "</tr>\n",
       "</tbody>\n",
       "</table>\n"
      ]
     },
     "metadata": {},
     "output_type": "display_data"
    }
   ],
   "source": [
    "ConvertTo-MarkdownTable (New-DataFrame (Get-DateRange 1/1 -periods 5 -freq M) person,state,verb,noun {invoke-generate \"$args\"})"
   ]
  }
 ],
 "metadata": {
  "kernelspec": {
   "display_name": ".NET (PowerShell)",
   "language": "PowerShell",
   "name": ".net-powershell"
  },
  "language_info": {
   "file_extension": ".ps1",
   "mimetype": "text/x-powershell",
   "name": "PowerShell",
   "pygments_lexer": "powershell",
   "version": "7.0"
  }
 },
 "nbformat": 4,
 "nbformat_minor": 4
}
